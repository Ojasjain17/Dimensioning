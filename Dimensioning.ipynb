{
 "cells": [
  {
   "cell_type": "code",
   "execution_count": 26,
   "metadata": {},
   "outputs": [],
   "source": [
    "import pandas as pd\n",
    "from pandas import DataFrame\n",
    "import math\n",
    "import geopy.distance"
   ]
  },
  {
   "cell_type": "code",
   "execution_count": 36,
   "metadata": {},
   "outputs": [
    {
     "name": "stdout",
     "output_type": "stream",
     "text": [
      "Please enter the radius: -25\n"
     ]
    }
   ],
   "source": [
    "Radius=input(\"Please enter the radius: -\")\n",
    "Radius=float(Radius)"
   ]
  },
  {
   "cell_type": "code",
   "execution_count": 28,
   "metadata": {},
   "outputs": [],
   "source": [
    "alpha=pd.read_csv('TN_LMP_Dimensioning.csv')\n",
    "r=DataFrame(alpha)           #Create a DataFrame"
   ]
  },
  {
   "cell_type": "code",
   "execution_count": 11,
   "metadata": {},
   "outputs": [],
   "source": [
    "for i in range(len(r.index)):                                      #This part calculates the distance between LMP Pincode and Corresponding Coverage Pincode\n",
    "    c1=(r.loc[i,'Coverage Latitude'],r.loc[i,'Coverage Longitude'])\n",
    "    c2=(r.loc[i,'LMP Latitude'],r.loc[i,'LMP Longitude'])\n",
    "    r.loc[i,'Calculated Distance']=geopy.distance.geodesic(c1,c2).km\n",
    "    r.loc[i,'Status']='Not Changed'\n",
    "    \n",
    "    "
   ]
  },
  {
   "cell_type": "code",
   "execution_count": 18,
   "metadata": {},
   "outputs": [],
   "source": [
    "for i in range(len(r.index)):        #This loop checks for minimum distance of any Coverage Pincode and all LMP Pincodes and maps the minimum distance LMP Pincode and Coverage Pincode.\n",
    "    dist=[]\n",
    "    for j in range(len(r.index)):\n",
    "        c1=(r.loc[i,'Coverage Latitude'],r.loc[i,'Coverage Longitude'])\n",
    "        c2=(r.loc[j,'LMP Latitude'],r.loc[j,'LMP Longitude'])\n",
    "        dist.append((geopy.distance.geodesic(c1,c2).km))\n",
    "    r.loc[i,'Minimum Distance']=min(dist)\n",
    "    k=dist.index(min(dist))\n",
    "    r.loc[i,'New mapping']=r.loc[k,'LMP Pincode']"
   ]
  },
  {
   "cell_type": "code",
   "execution_count": 17,
   "metadata": {},
   "outputs": [
    {
     "name": "stdout",
     "output_type": "stream",
     "text": [
      "New mapping=612701 , Coverage Pincode=621715 , Old Mapping=612904\n",
      "New mapping=610001 , Coverage Pincode=609401 , Old Mapping=612401\n",
      "New mapping=610001 , Coverage Pincode=609304 , Old Mapping=612904\n",
      "New mapping=612701 , Coverage Pincode=621851 , Old Mapping=612904\n",
      "New mapping=625513 , Coverage Pincode=625535 , Old Mapping=626130\n",
      "New mapping=626130 , Coverage Pincode=625519 , Old Mapping=625513\n"
     ]
    }
   ],
   "source": [
    "for i in range(len(r.index)):    #This loop prints pincodes of changed LMPS and also updates the Status\n",
    "    if r.loc[i,'New mapping']!=r.loc[i,'LMP Pincode']:\n",
    "       r.loc[i,'Status']='Changed'\n",
    "       print('New mapping='+str(r.loc[i,'New mapping'])+' , '+'Coverage Pincode='+str(r.loc[i,'Coverage Pincode'])+' , '+'Old Mapping='+str(r.loc[i,'LMP Pincode']))"
   ]
  },
  {
   "cell_type": "code",
   "execution_count": 32,
   "metadata": {},
   "outputs": [],
   "source": [
    "for i in range(len(r.index)):\n",
    "    if r.loc[i,'New Distance']>Radius:\n",
    "        r.loc[i,'Availibility']='NA'\n",
    "    else:\n",
    "        r.loc[i,'Availibility']='A'"
   ]
  },
  {
   "cell_type": "code",
   "execution_count": 33,
   "metadata": {},
   "outputs": [],
   "source": [
    "r.to_csv('New Mapping.csv')\n",
    "\n"
   ]
  }
 ],
 "metadata": {
  "kernelspec": {
   "display_name": "Python 3",
   "language": "python",
   "name": "python3"
  },
  "language_info": {
   "codemirror_mode": {
    "name": "ipython",
    "version": 3
   },
   "file_extension": ".py",
   "mimetype": "text/x-python",
   "name": "python",
   "nbconvert_exporter": "python",
   "pygments_lexer": "ipython3",
   "version": "3.6.7"
  }
 },
 "nbformat": 4,
 "nbformat_minor": 2
}
